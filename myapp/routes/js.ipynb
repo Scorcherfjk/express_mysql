{
 "cells": [
  {
   "cell_type": "code",
   "execution_count": 3,
   "metadata": {},
   "outputs": [],
   "source": [
    "var mysql = require('mysql');\n",
    "var config = require('../models/database').config;"
   ]
  },
  {
   "cell_type": "code",
   "execution_count": 31,
   "metadata": {},
   "outputs": [],
   "source": [
    "var sql = 'SELECT  * from usuario WHERE id_usuario = ? LIMIT 1';"
   ]
  },
  {
   "cell_type": "code",
   "execution_count": 33,
   "metadata": {},
   "outputs": [
    {
     "name": "stdout",
     "output_type": "stream",
     "text": [
      "CONECTADO!\n",
      "[ RowDataPacket {\n",
      "    id_usuario: 1,\n",
      "    tipo_documento: 2,\n",
      "    documento_identidad: 133138278,\n",
      "    nombres: 'javier',\n",
      "    apellido_paterno: 'de freitas',\n",
      "    apellido_materno: 'cale',\n",
      "    genero: 1,\n",
      "    pais: 'Peru',\n",
      "    departamento: 'Lima',\n",
      "    provincia: 'Lima',\n",
      "    distrito: 'Lima',\n",
      "    direccion: 'Lima',\n",
      "    fecha_nacimiento: 1997-03-08T05:00:00.000Z,\n",
      "    telefono_movil: 916833068,\n",
      "    telefono_fijo: 183152123,\n",
      "    email: 'franjavikale@yahoo.com',\n",
      "    email2: '1@h.com',\n",
      "    estatus: 3,\n",
      "    usuario: 'franjavikale@yahoo.com',\n",
      "    clave: '$2b$10$SwytIF1OOOkvjKAZfI/0UO4N.3/ChGysySxR3ca3DSe1heS.ktsBO' } ]\n"
     ]
    }
   ],
   "source": [
    "var con = mysql.createConnection(config());\n",
    "con.connect(function(err) {\n",
    "    if (err){console.log(err);}\n",
    "    else{console.log(\"CONECTADO!\");}\n",
    "    \n",
    "    con.query(sql, [1], function (err, result) {\n",
    "        if (err) { console.log(err); }\n",
    "        else {console.log(result);}\n",
    "    });\n",
    "    con.end();\n",
    "});"
   ]
  },
  {
   "cell_type": "code",
   "execution_count": 32,
   "metadata": {},
   "outputs": [],
   "source": [
    "var sql2 = 'SELECT id_proyecto, titulo, fecha_creacion from proyecto WHERE id_usuario = ?';"
   ]
  },
  {
   "cell_type": "code",
   "execution_count": 34,
   "metadata": {},
   "outputs": [
    {
     "name": "stdout",
     "output_type": "stream",
     "text": [
      "CONECTADO!\n",
      "[ RowDataPacket {\n",
      "    id_proyecto: 2,\n",
      "    titulo: 'un proyecto',\n",
      "    fecha_creacion: 2018-10-17T15:31:09.000Z } ]\n"
     ]
    }
   ],
   "source": [
    "var con = mysql.createConnection(config());\n",
    "con.connect(function(err) {\n",
    "    if (err){console.log(err);}\n",
    "    else{console.log(\"CONECTADO!\");}\n",
    "    \n",
    "    con.query(sql2, [1], function (err, result) {\n",
    "        if (err) { console.log(err); }\n",
    "        else {console.log(result);}\n",
    "    });\n",
    "    con.end();\n",
    "});"
   ]
  },
  {
   "cell_type": "code",
   "execution_count": 35,
   "metadata": {},
   "outputs": [],
   "source": [
    "var sql3 = 'SELECT usuario.*, proyecto.* from proyecto INNER JOIN usuario ON usuario.id_usuario = ? and proyecto.id_proyecto = ?';"
   ]
  },
  {
   "cell_type": "code",
   "execution_count": 37,
   "metadata": {},
   "outputs": [
    {
     "name": "stdout",
     "output_type": "stream",
     "text": [
      "CONECTADO!\n",
      "[ RowDataPacket {\n",
      "    id_usuario: 1,\n",
      "    tipo_documento: 2,\n",
      "    documento_identidad: 133138278,\n",
      "    nombres: 'javier',\n",
      "    apellido_paterno: 'de freitas',\n",
      "    apellido_materno: 'cale',\n",
      "    genero: 1,\n",
      "    pais: 'Peru',\n",
      "    departamento: 'Lima',\n",
      "    provincia: 'Lima',\n",
      "    distrito: 'Lima',\n",
      "    direccion: 'Lima',\n",
      "    fecha_nacimiento: 1997-03-08T05:00:00.000Z,\n",
      "    telefono_movil: 916833068,\n",
      "    telefono_fijo: 183152123,\n",
      "    email: 'franjavikale@yahoo.com',\n",
      "    email2: '1@h.com',\n",
      "    estatus: 3,\n",
      "    usuario: 'franjavikale@yahoo.com',\n",
      "    clave: '$2b$10$SwytIF1OOOkvjKAZfI/0UO4N.3/ChGysySxR3ca3DSe1heS.ktsBO',\n",
      "    id_proyecto: 2,\n",
      "    fecha_creacion: 2018-10-17T15:31:09.000Z,\n",
      "    titulo: 'un proyecto' } ]\n"
     ]
    }
   ],
   "source": [
    "var con = mysql.createConnection(config());\n",
    "con.connect(function(err) {\n",
    "    if (err){console.log(err);}\n",
    "    else{console.log(\"CONECTADO!\");}\n",
    "    \n",
    "    con.query(sql3, [1,2], function (err, result) {\n",
    "        if (err) { console.log(err); }\n",
    "        else {console.log(result);}\n",
    "    });\n",
    "    con.end();\n",
    "});"
   ]
  },
  {
   "cell_type": "code",
   "execution_count": 41,
   "metadata": {},
   "outputs": [],
   "source": [
    "var sql4 = 'SELECT MAX(id_proyecto) FROM proyecto'"
   ]
  },
  {
   "cell_type": "code",
   "execution_count": 48,
   "metadata": {},
   "outputs": [
    {
     "name": "stdout",
     "output_type": "stream",
     "text": [
      "CONECTADO!\n"
     ]
    }
   ],
   "source": [
    "var con = mysql.createConnection(config());\n",
    "con.connect(function(err) {\n",
    "    if (err){console.log(err);}\n",
    "    else{console.log(\"CONECTADO!\");}\n",
    "    \n",
    "    con.query(sql4, function (err, result) {\n",
    "        if (err) { console.log(err); }\n",
    "        else {const a = result;\n",
    "             return a;}\n",
    "    });\n",
    "    con.end();\n",
    "});"
   ]
  },
  {
   "cell_type": "code",
   "execution_count": 49,
   "metadata": {},
   "outputs": [
    {
     "ename": "ReferenceError",
     "evalue": "a is not defined",
     "output_type": "error",
     "traceback": [
      "evalmachine.<anonymous>:1",
      "a",
      "^",
      "",
      "ReferenceError: a is not defined",
      "    at evalmachine.<anonymous>:1:1",
      "    at ContextifyScript.Script.runInThisContext (vm.js:50:33)",
      "    at Object.runInThisContext (vm.js:139:38)",
      "    at run ([eval]:1002:15)",
      "    at onRunRequest ([eval]:829:18)",
      "    at onMessage ([eval]:789:13)",
      "    at emitTwo (events.js:126:13)",
      "    at process.emit (events.js:214:7)",
      "    at emit (internal/child_process.js:772:12)",
      "    at _combinedTickCallback (internal/process/next_tick.js:141:11)"
     ]
    }
   ],
   "source": [
    "a"
   ]
  },
  {
   "cell_type": "code",
   "execution_count": 21,
   "metadata": {},
   "outputs": [],
   "source": [
    "var lista1 = [null,3,null,12,null]\n",
    "var lista2 = []"
   ]
  },
  {
   "cell_type": "code",
   "execution_count": 22,
   "metadata": {},
   "outputs": [
    {
     "name": "stdout",
     "output_type": "stream",
     "text": [
      "[ null, 3, null, 12, null ]\n"
     ]
    }
   ],
   "source": [
    "console.log(lista1)"
   ]
  },
  {
   "cell_type": "code",
   "execution_count": 23,
   "metadata": {},
   "outputs": [
    {
     "name": "stdout",
     "output_type": "stream",
     "text": [
      "\n",
      "3\n",
      "\n",
      "12\n",
      "\n"
     ]
    },
    {
     "data": {
      "text/plain": [
       "5"
      ]
     },
     "execution_count": 23,
     "metadata": {},
     "output_type": "execute_result"
    }
   ],
   "source": [
    "for(i = 0; i<lista.length; i++){\n",
    "    console.log(lista[i])\n",
    "    if (lista[i] === null){\n",
    "        lista[i] = \"\";\n",
    "    }\n",
    "    lista2.push(lista[i])\n",
    "}"
   ]
  },
  {
   "cell_type": "code",
   "execution_count": 24,
   "metadata": {},
   "outputs": [
    {
     "data": {
      "text/plain": [
       "[ '', 3, '', 12, '' ]"
      ]
     },
     "execution_count": 24,
     "metadata": {},
     "output_type": "execute_result"
    }
   ],
   "source": [
    "lista2"
   ]
  },
  {
   "cell_type": "code",
   "execution_count": null,
   "metadata": {},
   "outputs": [],
   "source": []
  }
 ],
 "metadata": {
  "kernelspec": {
   "display_name": "Javascript (Node.js)",
   "language": "javascript",
   "name": "javascript"
  },
  "language_info": {
   "file_extension": ".js",
   "mimetype": "application/javascript",
   "name": "javascript",
   "version": "8.9.3"
  }
 },
 "nbformat": 4,
 "nbformat_minor": 2
}
