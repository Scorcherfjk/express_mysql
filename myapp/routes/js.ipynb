{
 "cells": [
  {
   "cell_type": "code",
   "execution_count": 3,
   "metadata": {},
   "outputs": [],
   "source": [
    "var mysql = require('mysql');\n",
    "var config = require('../models/database').config;"
   ]
  },
  {
   "cell_type": "code",
   "execution_count": 2,
   "metadata": {},
   "outputs": [],
   "source": [
    "var sql = 'SELECT  * from usuario WHERE id_usuario = ? LIMIT 1';"
   ]
  },
  {
   "cell_type": "code",
   "execution_count": 16,
   "metadata": {},
   "outputs": [],
   "source": [
    "var con = mysql.createConnection(config());"
   ]
  },
  {
   "cell_type": "code",
   "execution_count": 27,
   "metadata": {},
   "outputs": [
    {
     "name": "stdout",
     "output_type": "stream",
     "text": [
      "CONECTADO!\n",
      "[ RowDataPacket {\n",
      "    id_usuario: 1,\n",
      "    tipo_documento: 2,\n",
      "    documento_identidad: 133138278,\n",
      "    nombres: 'javier',\n",
      "    apellido_paterno: 'de freitas',\n",
      "    apellido_materno: 'cale',\n",
      "    genero: 1,\n",
      "    pais: 'Peru',\n",
      "    departamento: 'Lima',\n",
      "    provincia: 'Lima',\n",
      "    distrito: 'Lima',\n",
      "    direccion: 'Lima',\n",
      "    fecha_nacimiento: 1997-03-08T05:00:00.000Z,\n",
      "    telefono_movil: 916833068,\n",
      "    telefono_fijo: 183152123,\n",
      "    email: 'franjavikale@yahoo.com',\n",
      "    email2: '1@h.com',\n",
      "    estatus: 3,\n",
      "    usuario: 'franjavikale@yahoo.com',\n",
      "    clave: '$2b$10$SwytIF1OOOkvjKAZfI/0UO4N.3/ChGysySxR3ca3DSe1heS.ktsBO' } ]\n"
     ]
    }
   ],
   "source": [
    "var con = mysql.createConnection(config());\n",
    "con.connect(function(err) {\n",
    "    if (err){console.log(err);}\n",
    "    else{console.log(\"CONECTADO!\");}\n",
    "    \n",
    "    con.query(sql, [1], function (err, result) {\n",
    "        if (err) { console.log(err); }\n",
    "        else {console.log(result);}\n",
    "    });\n",
    "    con.end();\n",
    "});"
   ]
  },
  {
   "cell_type": "code",
   "execution_count": 26,
   "metadata": {},
   "outputs": [
    {
     "ename": "ReferenceError",
     "evalue": "result is not defined",
     "output_type": "error",
     "traceback": [
      "evalmachine.<anonymous>:1",
      "console.log(result[0].clave);",
      "            ^",
      "",
      "ReferenceError: result is not defined",
      "    at evalmachine.<anonymous>:1:13",
      "    at ContextifyScript.Script.runInThisContext (vm.js:50:33)",
      "    at Object.runInThisContext (vm.js:139:38)",
      "    at run ([eval]:1002:15)",
      "    at onRunRequest ([eval]:829:18)",
      "    at onMessage ([eval]:789:13)",
      "    at emitTwo (events.js:126:13)",
      "    at process.emit (events.js:214:7)",
      "    at emit (internal/child_process.js:772:12)",
      "    at _combinedTickCallback (internal/process/next_tick.js:141:11)"
     ]
    }
   ],
   "source": [
    "console.log(result[0].clave);"
   ]
  },
  {
   "cell_type": "code",
   "execution_count": null,
   "metadata": {},
   "outputs": [],
   "source": []
  }
 ],
 "metadata": {
  "kernelspec": {
   "display_name": "Javascript (Node.js)",
   "language": "javascript",
   "name": "javascript"
  },
  "language_info": {
   "file_extension": ".js",
   "mimetype": "application/javascript",
   "name": "javascript",
   "version": "8.9.3"
  }
 },
 "nbformat": 4,
 "nbformat_minor": 2
}
